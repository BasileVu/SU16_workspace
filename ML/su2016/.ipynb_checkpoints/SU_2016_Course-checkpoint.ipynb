{
 "cells": [
  {
   "cell_type": "code",
   "execution_count": 1,
   "metadata": {
    "collapsed": true
   },
   "outputs": [],
   "source": [
    "import csv\n",
    "import random\n",
    "from sklearn import naive_bayes\n",
    "from sklearn.ensemble.forest import RandomForestRegressor, ExtraTreesRegressor\n",
    "from sklearn.ensemble.gradient_boosting import GradientBoostingRegressor\n",
    "from sklearn.tree.tree import DecisionTreeRegressor\n",
    "from sklearn.linear_model.ridge import Ridge\n",
    "import sklearn.metrics\n",
    "from sklearn.naive_bayes import GaussianNB\n",
    "from sklearn.neighbors.regression import KNeighborsRegressor\n",
    "from sklearn import cross_validation\n",
    "from sklearn import datasets\n",
    "from sklearn.cross_validation import StratifiedKFold\n",
    "import pandas as pd\n",
    "import matplotlib\n",
    "%matplotlib inline\n",
    "import matplotlib.pyplot as plt\n",
    "\n",
    "#Set the seed\n",
    "random.seed(42)"
   ]
  },
  {
   "cell_type": "code",
   "execution_count": 2,
   "metadata": {
    "collapsed": true
   },
   "outputs": [],
   "source": [
    "def filter_indexes(header):\n",
    "    string_features = [\"marque\", \"codepostal\", \"energie_veh\",\"profession\", \"var6\", \"var8\", \"var14\", \"prime_tot_ttc\"]\n",
    "    return [i for i in range(len(header)) if header[i] not in string_features]"
   ]
  },
  {
   "cell_type": "code",
   "execution_count": 3,
   "metadata": {
    "collapsed": true
   },
   "outputs": [],
   "source": [
    "def find_string_features_indexes(header):\n",
    "    string_features = [\"marque\", \"codepostal\", \"energie_veh\",\"profession\", \"var6\", \"var8\", \"var14\", \"prime_tot_ttc\"]\n",
    "    return [i for i in range(len(header)) if header[i] in string_features]"
   ]
  },
  {
   "cell_type": "code",
   "execution_count": 4,
   "metadata": {
    "collapsed": true
   },
   "outputs": [],
   "source": [
    "def transform_dataset(dataset, header):\n",
    "    string_features_indexes = find_string_features_indexes(header)\n",
    "    dataset_filtered = []\n",
    "    for row in tmp:\n",
    "        dataset_filtered.append(\n",
    "            [float(row[i]) if i not in string_features_indexes\n",
    "             else abs(hash(row[i])) % (10 ** 8) \n",
    "             for i in range(len(header))]\n",
    "        )\n",
    "    return dataset_filtered"
   ]
  },
  {
   "cell_type": "code",
   "execution_count": 5,
   "metadata": {
    "collapsed": false
   },
   "outputs": [
    {
     "name": "stderr",
     "output_type": "stream",
     "text": [
      "D:\\Programmes\\Anaconda2\\lib\\site-packages\\IPython\\core\\interactiveshell.py:2723: DtypeWarning: Columns (6) have mixed types. Specify dtype option on import or set low_memory=False.\n",
      "  interactivity=interactivity, compiler=compiler, result=result)\n"
     ]
    },
    {
     "data": {
      "text/html": [
       "<div>\n",
       "<table border=\"1\" class=\"dataframe\">\n",
       "  <thead>\n",
       "    <tr style=\"text-align: right;\">\n",
       "      <th></th>\n",
       "      <th>id</th>\n",
       "      <th>annee_naissance</th>\n",
       "      <th>annee_permis</th>\n",
       "      <th>marque</th>\n",
       "      <th>puis_fiscale</th>\n",
       "      <th>anc_veh</th>\n",
       "      <th>codepostal</th>\n",
       "      <th>energie_veh</th>\n",
       "      <th>kmage_annuel</th>\n",
       "      <th>crm</th>\n",
       "      <th>...</th>\n",
       "      <th>var14</th>\n",
       "      <th>var15</th>\n",
       "      <th>var16</th>\n",
       "      <th>var17</th>\n",
       "      <th>var18</th>\n",
       "      <th>var19</th>\n",
       "      <th>var20</th>\n",
       "      <th>var21</th>\n",
       "      <th>var22</th>\n",
       "      <th>prime_tot_ttc</th>\n",
       "    </tr>\n",
       "  </thead>\n",
       "  <tbody>\n",
       "    <tr>\n",
       "      <th>0</th>\n",
       "      <td>1</td>\n",
       "      <td>1986.0</td>\n",
       "      <td>2006.0</td>\n",
       "      <td>RENAULT</td>\n",
       "      <td>4</td>\n",
       "      <td>1</td>\n",
       "      <td>1034</td>\n",
       "      <td>gpl</td>\n",
       "      <td>2924</td>\n",
       "      <td>68</td>\n",
       "      <td>...</td>\n",
       "      <td>N</td>\n",
       "      <td>1</td>\n",
       "      <td>1</td>\n",
       "      <td>1</td>\n",
       "      <td>27</td>\n",
       "      <td>0</td>\n",
       "      <td>0</td>\n",
       "      <td>0</td>\n",
       "      <td>1</td>\n",
       "      <td>254.75</td>\n",
       "    </tr>\n",
       "    <tr>\n",
       "      <th>1</th>\n",
       "      <td>2</td>\n",
       "      <td>1986.0</td>\n",
       "      <td>2006.0</td>\n",
       "      <td>RENAULT</td>\n",
       "      <td>8</td>\n",
       "      <td>2</td>\n",
       "      <td>1034</td>\n",
       "      <td>gpl</td>\n",
       "      <td>11580</td>\n",
       "      <td>50</td>\n",
       "      <td>...</td>\n",
       "      <td>N</td>\n",
       "      <td>2</td>\n",
       "      <td>1</td>\n",
       "      <td>1</td>\n",
       "      <td>28</td>\n",
       "      <td>0</td>\n",
       "      <td>0</td>\n",
       "      <td>0</td>\n",
       "      <td>1</td>\n",
       "      <td>259.89</td>\n",
       "    </tr>\n",
       "    <tr>\n",
       "      <th>2</th>\n",
       "      <td>3</td>\n",
       "      <td>1982.0</td>\n",
       "      <td>2001.0</td>\n",
       "      <td>RENAULT</td>\n",
       "      <td>7</td>\n",
       "      <td>2</td>\n",
       "      <td>1034</td>\n",
       "      <td>gpl</td>\n",
       "      <td>7149</td>\n",
       "      <td>95</td>\n",
       "      <td>...</td>\n",
       "      <td>N</td>\n",
       "      <td>3</td>\n",
       "      <td>1</td>\n",
       "      <td>1</td>\n",
       "      <td>29</td>\n",
       "      <td>0</td>\n",
       "      <td>0</td>\n",
       "      <td>0</td>\n",
       "      <td>1</td>\n",
       "      <td>431.65</td>\n",
       "    </tr>\n",
       "    <tr>\n",
       "      <th>3</th>\n",
       "      <td>4</td>\n",
       "      <td>1987.0</td>\n",
       "      <td>2006.0</td>\n",
       "      <td>DACIA</td>\n",
       "      <td>5</td>\n",
       "      <td>2</td>\n",
       "      <td>1034</td>\n",
       "      <td>gpl</td>\n",
       "      <td>6526</td>\n",
       "      <td>100</td>\n",
       "      <td>...</td>\n",
       "      <td>N</td>\n",
       "      <td>3</td>\n",
       "      <td>1</td>\n",
       "      <td>1</td>\n",
       "      <td>29</td>\n",
       "      <td>0</td>\n",
       "      <td>0</td>\n",
       "      <td>0</td>\n",
       "      <td>1</td>\n",
       "      <td>577.99</td>\n",
       "    </tr>\n",
       "    <tr>\n",
       "      <th>4</th>\n",
       "      <td>5</td>\n",
       "      <td>1994.0</td>\n",
       "      <td>2013.0</td>\n",
       "      <td>CITROEN</td>\n",
       "      <td>4</td>\n",
       "      <td>2</td>\n",
       "      <td>1034</td>\n",
       "      <td>gpl</td>\n",
       "      <td>2872</td>\n",
       "      <td>50</td>\n",
       "      <td>...</td>\n",
       "      <td>N</td>\n",
       "      <td>2</td>\n",
       "      <td>1</td>\n",
       "      <td>4</td>\n",
       "      <td>26</td>\n",
       "      <td>0</td>\n",
       "      <td>1</td>\n",
       "      <td>1</td>\n",
       "      <td>4</td>\n",
       "      <td>222.67</td>\n",
       "    </tr>\n",
       "  </tbody>\n",
       "</table>\n",
       "<p>5 rows × 34 columns</p>\n",
       "</div>"
      ],
      "text/plain": [
       "   id  annee_naissance  annee_permis   marque  puis_fiscale  anc_veh  \\\n",
       "0   1           1986.0        2006.0  RENAULT             4        1   \n",
       "1   2           1986.0        2006.0  RENAULT             8        2   \n",
       "2   3           1982.0        2001.0  RENAULT             7        2   \n",
       "3   4           1987.0        2006.0    DACIA             5        2   \n",
       "4   5           1994.0        2013.0  CITROEN             4        2   \n",
       "\n",
       "  codepostal energie_veh  kmage_annuel  crm      ...       var14  var15  \\\n",
       "0       1034         gpl          2924   68      ...           N      1   \n",
       "1       1034         gpl         11580   50      ...           N      2   \n",
       "2       1034         gpl          7149   95      ...           N      3   \n",
       "3       1034         gpl          6526  100      ...           N      3   \n",
       "4       1034         gpl          2872   50      ...           N      2   \n",
       "\n",
       "   var16  var17  var18  var19 var20 var21 var22  prime_tot_ttc  \n",
       "0      1      1     27      0     0     0     1         254.75  \n",
       "1      1      1     28      0     0     0     1         259.89  \n",
       "2      1      1     29      0     0     0     1         431.65  \n",
       "3      1      1     29      0     0     0     1         577.99  \n",
       "4      1      4     26      0     1     1     4         222.67  \n",
       "\n",
       "[5 rows x 34 columns]"
      ]
     },
     "execution_count": 5,
     "metadata": {},
     "output_type": "execute_result"
    }
   ],
   "source": [
    "df=pd.read_csv('./data/ech_apprentissage.csv',\";\")\n",
    "df.head()"
   ]
  },
  {
   "cell_type": "code",
   "execution_count": 6,
   "metadata": {
    "collapsed": false
   },
   "outputs": [
    {
     "data": {
      "image/png": "[encoded data removed]",
      "text/plain": [
       "<matplotlib.figure.Figure at 0x11e34dd8>"
      ]
     },
     "metadata": {},
     "output_type": "display_data"
    }
   ],
   "source": [
    "df[\"prime_tot_ttc\"].describe()\n",
    "df_groupby=df[[\"var14\",\"prime_tot_ttc\"]].groupby(\"var14\").mean()\n",
    "ax=df_groupby.plot(kind=\"bar\")\n",
    "fig = matplotlib.pyplot.gcf()\n",
    "ax.set_title('       Title \\\n",
    "             \\n Sub Title',fontsize=16)\n",
    "ax.set_ylabel('Y label - %')\n",
    "fig.set_size_inches(15.0, 10.0)"
   ]
  },
  {
   "cell_type": "code",
   "execution_count": 7,
   "metadata": {
    "collapsed": false
   },
   "outputs": [
    {
     "data": {
      "image/png": "[encoded data removed]",
      "text/plain": [
       "<matplotlib.figure.Figure at 0x3ccfe48>"
      ]
     },
     "metadata": {},
     "output_type": "display_data"
    },
    {
     "data": {
      "image/png": "[encoded data removed]",
      "text/plain": [
       "<matplotlib.figure.Figure at 0x3ccf940>"
      ]
     },
     "metadata": {},
     "output_type": "display_data"
    }
   ],
   "source": [
    "df[\"prime_tot_ttc\"].describe()\n",
    "df_groupby=df[[\"anc_veh\",\"prime_tot_ttc\"]].groupby(\"anc_veh\").mean()\n",
    "ax=df_groupby.plot(kind=\"bar\")\n",
    "fig = matplotlib.pyplot.gcf()\n",
    "ax.set_title('       Title \\\n",
    "             \\n Sub Title',fontsize=16)\n",
    "ax.set_ylabel('Y label - %')\n",
    "fig.set_size_inches(15.0, 10.0)\n",
    "\n",
    "#######################################################################################################\n",
    "\n",
    "df[\"prime_tot_ttc\"].describe()\n",
    "df_groupby=df[[\"energie_veh\",\"prime_tot_ttc\"]].groupby(\"energie_veh\").mean()\n",
    "ax=df_groupby.plot(kind=\"bar\")\n",
    "fig = matplotlib.pyplot.gcf()\n",
    "ax.set_title('       Title \\\n",
    "             \\n Sub Title',fontsize=16)\n",
    "ax.set_ylabel('Y label - %')\n",
    "fig.set_size_inches(15.0, 10.0)"
   ]
  },
  {
   "cell_type": "code",
   "execution_count": 8,
   "metadata": {
    "collapsed": false
   },
   "outputs": [],
   "source": [
    "# Open the file\n",
    "filepath_train=\"./data/ech_apprentissage.csv\"\n",
    "file_open=open(filepath_train,\"r\")\n",
    "# Open the csv reader over the file\n",
    "csv_reader=csv.reader(file_open,delimiter=\";\")\n",
    "# Read the first line which is the header\n",
    "header=csv_reader.next()\n",
    "# Load the dataset contained in the file\n",
    "dataset=[]\n",
    "for row in csv_reader:\n",
    "    dataset.append(row)\n",
    "file_open.close()"
   ]
  },
  {
   "cell_type": "code",
   "execution_count": 9,
   "metadata": {
    "collapsed": false
   },
   "outputs": [],
   "source": [
    "# Replace the missing values\n",
    "for index,row in enumerate(dataset):\n",
    "    dataset[index]=[value if value not in [\"NR\",\"\"] else -1 for value in row]"
   ]
  },
  {
   "cell_type": "code",
   "execution_count": 11,
   "metadata": {
    "collapsed": false
   },
   "outputs": [],
   "source": [
    "# Filter the dataset based on the column name\n",
    "indexes = filter_indexes(header)\n",
    "dataset_filtered = []\n",
    "for row in dataset:\n",
    "    dataset_filtered.append([float(row[i]) for i in indexes])\n",
    "    \n",
    "# Build the structure containing the target\n",
    "targets=[]\n",
    "for row in dataset:\n",
    "    targets.append(float(row[header.index(\"prime_tot_ttc\")]))"
   ]
  },
  {
   "cell_type": "code",
   "execution_count": 12,
   "metadata": {
    "collapsed": false
   },
   "outputs": [],
   "source": [
    "#Split the datasets to have one for learning and the other for the test\n",
    "train_dataset=[]\n",
    "test_dataset=[]\n",
    "train_target=[]\n",
    "test_target=[]\n",
    "\n",
    "for row,target in zip(dataset_filtered,targets):\n",
    "    if random.random() < 0.70:\n",
    "        train_dataset.append(row)\n",
    "        train_target.append(target)\n",
    "    else:\n",
    "        test_dataset.append(row)\n",
    "        test_target.append(target)"
   ]
  },
  {
   "cell_type": "code",
   "execution_count": 13,
   "metadata": {
    "collapsed": false
   },
   "outputs": [],
   "source": [
    "# Build the model\n",
    "\n",
    "# Accuracy: 0.81 (+/- 0.00), absolute error: 39.8168990734 (n_estimators not provided)\n",
    "# n_estimators    Accuracy          absolute error\n",
    "# 10              0.81 (+/- 0.02)   38.8990294448\n",
    "# 25              0.82 (+/- 0.00)   38.5404753351\n",
    "# 50              0.82 (+/- 0.00)   38.1442771194\n",
    "\n",
    "# with a max_depth of 20:\n",
    "# 25              0.83 (+/- 0.00)   37.8813749236\n",
    "# 50              0.83 (+/- 0.00)   37.7159616915\n",
    "\n",
    "# with a max_depth of 100:\n",
    "# 25              0.82 (+/- 0.00)   38.5308551743\n",
    "# model=ExtraTreesRegressor(n_jobs=-1, n_estimators=25, max_depth=100)\n",
    "\n",
    "# n_estimators    Accuracy          absolute error\n",
    "# 10              0.81 (+/- 0.00)   39.6221581365\n",
    "# 25              0.82 (+/- 0.02)   37.7631540808\n",
    "# 50              0.82 (+/- 0.02)   37.3562676574\n",
    "# model=RandomForestRegressor(n_jobs=-1, n_estimators=50)\n",
    "\n",
    "# Accuracy: 0.83 (+/- 0.01), absolute error: 37.5486508164\n",
    "# max_depth=8 : Accuracy: 0.84 (+/- 0.05), absolute error: 37.5486508164\n",
    "model=GradientBoostingRegressor(verbose=1)\n",
    "\n",
    "# ?\n",
    "# model=GaussianNB()\n",
    "\n",
    "# Accuracy: 0.63 (+/- 0.01), absolute error: 55.4251076668\n",
    "#model=Ridge()\n",
    "\n",
    "# ?\n",
    "# model=KNeighborsRegressor()\n",
    "\n",
    "# Accuracy: 0.64 (+/- 0.07), absolute error: 52.1252602423\n",
    "# model=DecisionTreeRegressor()\n",
    "model.fit(train_dataset, train_target)\n",
    "\n",
    "#Predict with the model\n",
    "predictions=model.predict(test_dataset)"
   ]
  },
  {
   "cell_type": "code",
   "execution_count": 14,
   "metadata": {
    "collapsed": false
   },
   "outputs": [
    {
     "name": "stdout",
     "output_type": "stream",
     "text": [
      "Accuracy: 0.63 (+/- 0.01)\n"
     ]
    }
   ],
   "source": [
    "### Cross Validation ###\n",
    "\n",
    "#cv = StratifiedKFold(train_dataset, n_folds=5)\n",
    "\n",
    "###scoring\n",
    "scores = cross_validation.cross_val_score(model, train_dataset, train_target, cv=5) \n",
    "print \"Accuracy: %0.2f (+/- %0.2f)\" % (scores.mean(), scores.std() * 2)\n",
    "\n",
    "### getting the predictions ###\n",
    "#predicted = cross_validation.cross_val_predict(clf, train_dataset, train_target, cv=10)\n",
    "#print metrics.accuracy_score(train_target, predicted) \n",
    "model.fit(train_dataset,train_target)\n",
    "predictions=model.predict(test_dataset)"
   ]
  },
  {
   "cell_type": "code",
   "execution_count": 15,
   "metadata": {
    "collapsed": false
   },
   "outputs": [
    {
     "name": "stdout",
     "output_type": "stream",
     "text": [
      "55.4251076668\n"
     ]
    }
   ],
   "source": [
    "#Evaluate the quality of the prediction\n",
    "print sklearn.metrics.mean_absolute_error(predictions,test_target)\n",
    "\n",
    "#Alternative -- Compute the mean absolute percentage error"
   ]
  },
  {
   "cell_type": "code",
   "execution_count": 17,
   "metadata": {
    "collapsed": false
   },
   "outputs": [],
   "source": [
    "# Now load the test file and use the model built to score the dataset and create the submission file.\n",
    "\n",
    "# File loading\n",
    "with open(\"./data/ech_test.csv\", \"r\") as f:\n",
    "    # Open the csv reader over the file\n",
    "    csv_reader = csv.reader(f, delimiter=\";\")\n",
    "\n",
    "    # Read the first line which is the header\n",
    "    header = csv_reader.next()\n",
    "\n",
    "    # Load the dataset contained in the file\n",
    "    dataset = [row for row in csv_reader]\n",
    "\n",
    "# Replace the missing values\n",
    "for index,row in enumerate(dataset):\n",
    "    dataset[index] = [value if value not in [\"NR\",\"\"] else -1 for value in row]\n",
    "    \n",
    "# Transform the dataset based on the column name\n",
    "indexes = filter_indexes(header)\n",
    "dataset_filtered = []\n",
    "for row in dataset:\n",
    "    dataset_filtered.append([float(row[i]) for i in indexes])\n",
    "\n",
    "# Predict\n",
    "predictions = model.predict(dataset_filtered)\n",
    "res = [(dataset[i][0], predictions[i]) for i in range(len(dataset))]\n",
    "\n",
    "# Output each of the prediction with its id in a csv file\n",
    "with open(\"./data/res.csv\", \"w\") as csvfile:\n",
    "    headers = [\"id\", \"prediction\"]\n",
    "    writer = csv.DictWriter(csvfile, delimiter=';', fieldnames=headers)\n",
    "\n",
    "    writer.writeheader()\n",
    "    \n",
    "    for t in res:\n",
    "        writer.writerow({\"id\": t[0], \"prediction\": t[1]})\n"
   ]
  },
  {
   "cell_type": "code",
   "execution_count": null,
   "metadata": {
    "collapsed": true
   },
   "outputs": [],
   "source": []
  }
 ],
 "metadata": {
  "anaconda-cloud": {},
  "kernelspec": {
   "display_name": "Python [Root]",
   "language": "python",
   "name": "Python [Root]"
  },
  "language_info": {
   "codemirror_mode": {
    "name": "ipython",
    "version": 2
   },
   "file_extension": ".py",
   "mimetype": "text/x-python",
   "name": "python",
   "nbconvert_exporter": "python",
   "pygments_lexer": "ipython2",
   "version": "2.7.11"
  }
 },
 "nbformat": 4,
 "nbformat_minor": 0
}
